{
 "cells": [
  {
   "cell_type": "code",
   "execution_count": null,
   "metadata": {
    "collapsed": true
   },
   "outputs": [],
   "source": [
    "import pandas as pd\n",
    "import json\n",
    "import re\n",
    "from pprint import pprint\n",
    "with open('data.json') as data_file:    \n",
    "    data = json.load(data_file)\n",
    "\n",
    "lan_list = ['access','actionScript','ajax','apache','aspx','asp','asp.net','css','css3','c++','c#',\n",
    "            'dhtml','django','dreamweaver','flash','html','html5','java ','illustrator','javascript',\n",
    "            'jquery','jsp','linux','mysql','mssql','ms sql','ms-sql','oracle','photoshop',\n",
    "            'php','postgresql','python','ruby','smarty','sql','sql server','streaming','vb.net','xml','.net']\n",
    "res_dict = {}\n",
    "count = 0\n",
    "for element in data:\n",
    "    if 'title' in element:\n",
    "        #print(element['title'])\n",
    "        if (element['title'].find('軟體工程師') != -1 or element['title'].find('Software Engineer') != -1):\n",
    "            #print(element['title'])\n",
    "            #print(element['content'])\n",
    "            for lan in lan_list:\n",
    "                if (element['content'].lower().find(lan) != -1):\n",
    "                    if lan in res_dict:\n",
    "                        res_dict[lan] += 1\n",
    "                    else:\n",
    "                        res_dict[lan] = 1\n",
    "            \n",
    "            count += 1"
   ]
  }
 ],
 "metadata": {
  "kernelspec": {
   "display_name": "Python 3",
   "language": "python",
   "name": "python3"
  },
  "language_info": {
   "codemirror_mode": {
    "name": "ipython",
    "version": 3
   },
   "file_extension": ".py",
   "mimetype": "text/x-python",
   "name": "python",
   "nbconvert_exporter": "python",
   "pygments_lexer": "ipython3",
   "version": "3.6.3"
  }
 },
 "nbformat": 4,
 "nbformat_minor": 2
}
